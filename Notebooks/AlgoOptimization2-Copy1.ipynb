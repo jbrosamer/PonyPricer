{
 "cells": [
  {
   "cell_type": "code",
   "execution_count": 1,
   "metadata": {
    "collapsed": false
   },
   "outputs": [
    {
     "name": "stdout",
     "output_type": "stream",
     "text": [
      "/Users/jbrosamer/PonyPricer\n"
     ]
    },
    {
     "name": "stderr",
     "output_type": "stream",
     "text": [
      "/Users/jbrosamer/miniconda2/lib/python2.7/site-packages/matplotlib/__init__.py:872: UserWarning: axes.color_cycle is deprecated and replaced with axes.prop_cycle; please use the latter.\n",
      "  warnings.warn(self.msg_depr % (key, alt_key))\n"
     ]
    }
   ],
   "source": [
    "%load_ext autoreload\n",
    "%autoreload 2\n",
    "%cd ~/PonyPricer/\n",
    "%matplotlib inline\n",
    "#%run cleandata.py\n",
    "\n",
    "import re\n",
    "import math\n",
    "import requests\n",
    "import pandas as pd\n",
    "import numpy as np\n",
    "from bs4 import BeautifulSoup\n",
    "from sklearn.preprocessing import OneHotEncoder, LabelEncoder\n",
    "from sklearn.cross_validation import train_test_split\n",
    "from sklearn.cross_validation import KFold\n",
    "from sklearn.ensemble import GradientBoostingRegressor, RandomForestRegressor\n",
    "from sklearn.metrics import mean_squared_error, r2_score\n",
    "from sklearn import metrics\n",
    "from sklearn import linear_model\n",
    "from sklearn import isotonic\n",
    "from sklearn.preprocessing import PolynomialFeatures\n",
    "from sklearn.pipeline import make_pipeline\n",
    "import matplotlib.pyplot as plt\n",
    "import seaborn as sns\n",
    "from scipy import stats\n",
    "from model import *"
   ]
  },
  {
   "cell_type": "code",
   "execution_count": 3,
   "metadata": {
    "collapsed": false
   },
   "outputs": [
    {
     "name": "stdout",
     "output_type": "stream",
     "text": [
      "df.columns Index([u'id', u'breed', u'price', u'color', u'age', u'zip', u'temp',\n",
      "       u'warmblood', u'sold', u'soldhere',\n",
      "       ...\n",
      "       u'Vaulting', u'Weanling', u'Western Dressage', u'Western Pleasure',\n",
      "       u'Western Riding', u'Wife-Safe Horse', u'Working Equitation',\n",
      "       u'Yearling', u'Youth', u'lenDesc'],\n",
      "      dtype='object', length=275)\n",
      "Final cols ['age', 'gender', 'inches', 'color', 'breed', 'lnprice']\n"
     ]
    }
   ],
   "source": [
    "from model import *\n",
    "df_test = all_data()\n",
    "df = df_test.copy()\n",
    "df = clean_col(df)\n",
    "df=encode(df)\n"
   ]
  },
  {
   "cell_type": "code",
   "execution_count": null,
   "metadata": {
    "collapsed": false
   },
   "outputs": [],
   "source": [
    "b.plotPartial(8)\n"
   ]
  },
  {
   "cell_type": "code",
   "execution_count": null,
   "metadata": {
    "collapsed": false
   },
   "outputs": [],
   "source": [
    "\n",
    "features=final_cols[:-1]\n",
    "medians=list()\n",
    "means=list()\n",
    "pf=predCVDataframe()\n",
    "gpDict=dict()\n",
    "for f in features:\n",
    "    gpBy=pf.groupby(pf[f])['perDiff'].median().sort_values(ascending=False)\n",
    "    gpDict[f]=gpBy"
   ]
  },
  {
   "cell_type": "code",
   "execution_count": null,
   "metadata": {
    "collapsed": false
   },
   "outputs": [],
   "source": [
    "gpDict['breedGroup']"
   ]
  },
  {
   "cell_type": "code",
   "execution_count": null,
   "metadata": {
    "collapsed": false
   },
   "outputs": [],
   "source": [
    "plt.style.use('ggplot')\n",
    "df = df_test.copy()\n",
    "df = clean_col(df)\n",
    "idx = df.loc[df['price']>100000,:].index\n",
    "#df = df.drop(idx, axis = 0)\n",
    "df_temp = df[['age','inches', 'gender', 'lnprice']]\n",
    "plot = sns.pairplot(df_temp, hue = 'gender', diag_kind='kde')"
   ]
  },
  {
   "cell_type": "code",
   "execution_count": null,
   "metadata": {
    "collapsed": false
   },
   "outputs": [],
   "source": []
  },
  {
   "cell_type": "code",
   "execution_count": null,
   "metadata": {
    "collapsed": true
   },
   "outputs": [],
   "source": []
  }
 ],
 "metadata": {
  "kernelspec": {
   "display_name": "Python 2",
   "language": "python",
   "name": "python2"
  },
  "language_info": {
   "codemirror_mode": {
    "name": "ipython",
    "version": 2
   },
   "file_extension": ".py",
   "mimetype": "text/x-python",
   "name": "python",
   "nbconvert_exporter": "python",
   "pygments_lexer": "ipython2",
   "version": "2.7.11"
  }
 },
 "nbformat": 4,
 "nbformat_minor": 0
}
