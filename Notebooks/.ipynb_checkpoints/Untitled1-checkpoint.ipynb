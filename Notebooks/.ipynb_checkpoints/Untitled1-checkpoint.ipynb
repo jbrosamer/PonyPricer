{
 "cells": [
  {
   "cell_type": "code",
   "execution_count": 7,
   "metadata": {
    "collapsed": false
   },
   "outputs": [
    {
     "name": "stdout",
     "output_type": "stream",
     "text": [
      "The autoreload extension is already loaded. To reload it, use:\n",
      "  %reload_ext autoreload\n"
     ]
    }
   ],
   "source": [
    "%load_ext autoreload\n",
    "%autoreload 2\n",
    "\n"
   ]
  },
  {
   "cell_type": "code",
   "execution_count": 63,
   "metadata": {
    "collapsed": false
   },
   "outputs": [
    {
     "name": "stdout",
     "output_type": "stream",
     "text": [
      "/Users/jbrosamer/PonyPricer\n",
      "df.columns Index([u'id', u'breed', u'price', u'color', u'age', u'zip', u'temp',\n",
      "       u'warmblood', u'sold', u'soldhere', u'forsale', u'forlease',\n",
      "       u'registered', u'skills', u'gender', u'inches', u'lnprice'],\n",
      "      dtype='object')\n"
     ]
    }
   ],
   "source": [
    "%cd ~/PonyPricer/\n",
    "import pandas as pd\n",
    "from model import *\n",
    "df=all_data()\n",
    "\n",
    "df=clean_col(df)\n",
    "df_test=df.copy()\n",
    "df=encode(df)\n"
   ]
  },
  {
   "cell_type": "code",
   "execution_count": 73,
   "metadata": {
    "collapsed": false
   },
   "outputs": [
    {
     "name": "stdout",
     "output_type": "stream",
     "text": [
      "df.columns Index([u'id', u'breed', u'price', u'color', u'age', u'zip', u'temp',\n",
      "       u'warmblood', u'sold', u'soldhere', u'forsale', u'forlease',\n",
      "       u'registered', u'skills', u'gender', u'inches', u'lnprice'],\n",
      "      dtype='object')\n"
     ]
    }
   ],
   "source": [
    "\n",
    "from model import *\n",
    "pred=runPrediction()"
   ]
  },
  {
   "cell_type": "code",
   "execution_count": 77,
   "metadata": {
    "collapsed": false
   },
   "outputs": [
    {
     "name": "stdout",
     "output_type": "stream",
     "text": [
      "[ 7021.09260736]\n"
     ]
    }
   ],
   "source": [
    "import numpy as np\n",
    "print np.exp(pred)"
   ]
  },
  {
   "cell_type": "code",
   "execution_count": 44,
   "metadata": {
    "collapsed": false
   },
   "outputs": [
    {
     "name": "stderr",
     "output_type": "stream",
     "text": [
      "[autoreload of model failed: Traceback (most recent call last):\n",
      "  File \"/Users/jbrosamer/miniconda2/lib/python2.7/site-packages/IPython/extensions/autoreload.py\", line 247, in check\n",
      "    superreload(m, reload, self.old_objects)\n",
      "ImportError: No module named features\n",
      "]\n"
     ]
    },
    {
     "ename": "ValueError",
     "evalue": "If using all scalar values, you must pass an index",
     "output_type": "error",
     "traceback": [
      "\u001b[0;31m---------------------------------------------------------------------------\u001b[0m",
      "\u001b[0;31mValueError\u001b[0m                                Traceback (most recent call last)",
      "\u001b[0;32m<ipython-input-44-61152bb5a2be>\u001b[0m in \u001b[0;36m<module>\u001b[0;34m()\u001b[0m\n\u001b[1;32m      1\u001b[0m \u001b[0minDict\u001b[0m\u001b[0;34m=\u001b[0m\u001b[0;34m{\u001b[0m\u001b[0;34m'breed'\u001b[0m\u001b[0;34m:\u001b[0m\u001b[0;34m\"Thoroughbred\"\u001b[0m\u001b[0;34m,\u001b[0m\u001b[0;34m'age'\u001b[0m\u001b[0;34m:\u001b[0m\u001b[0;36m10\u001b[0m\u001b[0;34m,\u001b[0m\u001b[0;34m'inches'\u001b[0m\u001b[0;34m:\u001b[0m\u001b[0;36m66.\u001b[0m\u001b[0;34m,\u001b[0m\u001b[0;34m'gender'\u001b[0m\u001b[0;34m:\u001b[0m\u001b[0;34m\"Gelding\"\u001b[0m\u001b[0;34m,\u001b[0m\u001b[0;34m'color'\u001b[0m\u001b[0;34m:\u001b[0m\u001b[0;34m\"Bay\"\u001b[0m\u001b[0;34m,\u001b[0m \u001b[0;34m'lnPrice'\u001b[0m\u001b[0;34m:\u001b[0m\u001b[0;36m1.0\u001b[0m\u001b[0;34m}\u001b[0m\u001b[0;34m\u001b[0m\u001b[0m\n\u001b[0;32m----> 2\u001b[0;31m \u001b[0mtf\u001b[0m\u001b[0;34m=\u001b[0m\u001b[0mpd\u001b[0m\u001b[0;34m.\u001b[0m\u001b[0mDataFrame\u001b[0m\u001b[0;34m.\u001b[0m\u001b[0mfrom_dict\u001b[0m\u001b[0;34m(\u001b[0m\u001b[0minDict\u001b[0m\u001b[0;34m)\u001b[0m\u001b[0;34m\u001b[0m\u001b[0m\n\u001b[0m",
      "\u001b[0;32m/Users/jbrosamer/miniconda2/lib/python2.7/site-packages/pandas/core/frame.pyc\u001b[0m in \u001b[0;36mfrom_dict\u001b[0;34m(cls, data, orient, dtype)\u001b[0m\n\u001b[1;32m    802\u001b[0m             \u001b[0;32mraise\u001b[0m \u001b[0mValueError\u001b[0m\u001b[0;34m(\u001b[0m\u001b[0;34m'only recognize index or columns for orient'\u001b[0m\u001b[0;34m)\u001b[0m\u001b[0;34m\u001b[0m\u001b[0m\n\u001b[1;32m    803\u001b[0m \u001b[0;34m\u001b[0m\u001b[0m\n\u001b[0;32m--> 804\u001b[0;31m         \u001b[0;32mreturn\u001b[0m \u001b[0mcls\u001b[0m\u001b[0;34m(\u001b[0m\u001b[0mdata\u001b[0m\u001b[0;34m,\u001b[0m \u001b[0mindex\u001b[0m\u001b[0;34m=\u001b[0m\u001b[0mindex\u001b[0m\u001b[0;34m,\u001b[0m \u001b[0mcolumns\u001b[0m\u001b[0;34m=\u001b[0m\u001b[0mcolumns\u001b[0m\u001b[0;34m,\u001b[0m \u001b[0mdtype\u001b[0m\u001b[0;34m=\u001b[0m\u001b[0mdtype\u001b[0m\u001b[0;34m)\u001b[0m\u001b[0;34m\u001b[0m\u001b[0m\n\u001b[0m\u001b[1;32m    805\u001b[0m \u001b[0;34m\u001b[0m\u001b[0m\n\u001b[1;32m    806\u001b[0m     \u001b[0;34m@\u001b[0m\u001b[0mdeprecate_kwarg\u001b[0m\u001b[0;34m(\u001b[0m\u001b[0mold_arg_name\u001b[0m\u001b[0;34m=\u001b[0m\u001b[0;34m'outtype'\u001b[0m\u001b[0;34m,\u001b[0m \u001b[0mnew_arg_name\u001b[0m\u001b[0;34m=\u001b[0m\u001b[0;34m'orient'\u001b[0m\u001b[0;34m)\u001b[0m\u001b[0;34m\u001b[0m\u001b[0m\n",
      "\u001b[0;32m/Users/jbrosamer/miniconda2/lib/python2.7/site-packages/pandas/core/frame.pyc\u001b[0m in \u001b[0;36m__init__\u001b[0;34m(self, data, index, columns, dtype, copy)\u001b[0m\n\u001b[1;32m    224\u001b[0m                                  dtype=dtype, copy=copy)\n\u001b[1;32m    225\u001b[0m         \u001b[0;32melif\u001b[0m \u001b[0misinstance\u001b[0m\u001b[0;34m(\u001b[0m\u001b[0mdata\u001b[0m\u001b[0;34m,\u001b[0m \u001b[0mdict\u001b[0m\u001b[0;34m)\u001b[0m\u001b[0;34m:\u001b[0m\u001b[0;34m\u001b[0m\u001b[0m\n\u001b[0;32m--> 226\u001b[0;31m             \u001b[0mmgr\u001b[0m \u001b[0;34m=\u001b[0m \u001b[0mself\u001b[0m\u001b[0;34m.\u001b[0m\u001b[0m_init_dict\u001b[0m\u001b[0;34m(\u001b[0m\u001b[0mdata\u001b[0m\u001b[0;34m,\u001b[0m \u001b[0mindex\u001b[0m\u001b[0;34m,\u001b[0m \u001b[0mcolumns\u001b[0m\u001b[0;34m,\u001b[0m \u001b[0mdtype\u001b[0m\u001b[0;34m=\u001b[0m\u001b[0mdtype\u001b[0m\u001b[0;34m)\u001b[0m\u001b[0;34m\u001b[0m\u001b[0m\n\u001b[0m\u001b[1;32m    227\u001b[0m         \u001b[0;32melif\u001b[0m \u001b[0misinstance\u001b[0m\u001b[0;34m(\u001b[0m\u001b[0mdata\u001b[0m\u001b[0;34m,\u001b[0m \u001b[0mma\u001b[0m\u001b[0;34m.\u001b[0m\u001b[0mMaskedArray\u001b[0m\u001b[0;34m)\u001b[0m\u001b[0;34m:\u001b[0m\u001b[0;34m\u001b[0m\u001b[0m\n\u001b[1;32m    228\u001b[0m             \u001b[0;32mimport\u001b[0m \u001b[0mnumpy\u001b[0m\u001b[0;34m.\u001b[0m\u001b[0mma\u001b[0m\u001b[0;34m.\u001b[0m\u001b[0mmrecords\u001b[0m \u001b[0;32mas\u001b[0m \u001b[0mmrecords\u001b[0m\u001b[0;34m\u001b[0m\u001b[0m\n",
      "\u001b[0;32m/Users/jbrosamer/miniconda2/lib/python2.7/site-packages/pandas/core/frame.pyc\u001b[0m in \u001b[0;36m_init_dict\u001b[0;34m(self, data, index, columns, dtype)\u001b[0m\n\u001b[1;32m    361\u001b[0m \u001b[0;34m\u001b[0m\u001b[0m\n\u001b[1;32m    362\u001b[0m         return _arrays_to_mgr(arrays, data_names, index, columns,\n\u001b[0;32m--> 363\u001b[0;31m                               dtype=dtype)\n\u001b[0m\u001b[1;32m    364\u001b[0m \u001b[0;34m\u001b[0m\u001b[0m\n\u001b[1;32m    365\u001b[0m     def _init_ndarray(self, values, index, columns, dtype=None,\n",
      "\u001b[0;32m/Users/jbrosamer/miniconda2/lib/python2.7/site-packages/pandas/core/frame.pyc\u001b[0m in \u001b[0;36m_arrays_to_mgr\u001b[0;34m(arrays, arr_names, index, columns, dtype)\u001b[0m\n\u001b[1;32m   5156\u001b[0m     \u001b[0;31m# figure out the index, if necessary\u001b[0m\u001b[0;34m\u001b[0m\u001b[0;34m\u001b[0m\u001b[0m\n\u001b[1;32m   5157\u001b[0m     \u001b[0;32mif\u001b[0m \u001b[0mindex\u001b[0m \u001b[0;32mis\u001b[0m \u001b[0mNone\u001b[0m\u001b[0;34m:\u001b[0m\u001b[0;34m\u001b[0m\u001b[0m\n\u001b[0;32m-> 5158\u001b[0;31m         \u001b[0mindex\u001b[0m \u001b[0;34m=\u001b[0m \u001b[0mextract_index\u001b[0m\u001b[0;34m(\u001b[0m\u001b[0marrays\u001b[0m\u001b[0;34m)\u001b[0m\u001b[0;34m\u001b[0m\u001b[0m\n\u001b[0m\u001b[1;32m   5159\u001b[0m     \u001b[0;32melse\u001b[0m\u001b[0;34m:\u001b[0m\u001b[0;34m\u001b[0m\u001b[0m\n\u001b[1;32m   5160\u001b[0m         \u001b[0mindex\u001b[0m \u001b[0;34m=\u001b[0m \u001b[0m_ensure_index\u001b[0m\u001b[0;34m(\u001b[0m\u001b[0mindex\u001b[0m\u001b[0;34m)\u001b[0m\u001b[0;34m\u001b[0m\u001b[0m\n",
      "\u001b[0;32m/Users/jbrosamer/miniconda2/lib/python2.7/site-packages/pandas/core/frame.pyc\u001b[0m in \u001b[0;36mextract_index\u001b[0;34m(data)\u001b[0m\n\u001b[1;32m   5195\u001b[0m \u001b[0;34m\u001b[0m\u001b[0m\n\u001b[1;32m   5196\u001b[0m         \u001b[0;32mif\u001b[0m \u001b[0;32mnot\u001b[0m \u001b[0mindexes\u001b[0m \u001b[0;32mand\u001b[0m \u001b[0;32mnot\u001b[0m \u001b[0mraw_lengths\u001b[0m\u001b[0;34m:\u001b[0m\u001b[0;34m\u001b[0m\u001b[0m\n\u001b[0;32m-> 5197\u001b[0;31m             raise ValueError('If using all scalar values, you must pass'\n\u001b[0m\u001b[1;32m   5198\u001b[0m                              ' an index')\n\u001b[1;32m   5199\u001b[0m \u001b[0;34m\u001b[0m\u001b[0m\n",
      "\u001b[0;31mValueError\u001b[0m: If using all scalar values, you must pass an index"
     ]
    }
   ],
   "source": [
    "inDict={'breed':\"Thoroughbred\",'age':10,'inches':66.,'gender':\"Gelding\",'color':\"Bay\", 'lnPrice':1.0}\n",
    "tf=pd.DataFrame.from_dict(inDict)"
   ]
  },
  {
   "cell_type": "code",
   "execution_count": 78,
   "metadata": {
    "collapsed": false
   },
   "outputs": [],
   "source": [
    "import pickle\n",
    "wmIds=pickle.load(open(\"/Users/jbrosamer/PonyPricer/WarmbloodData/WarmbloodIds.p\", \"rb\"))\n"
   ]
  },
  {
   "cell_type": "code",
   "execution_count": 81,
   "metadata": {
    "collapsed": false
   },
   "outputs": [],
   "source": [
    "wmDf=pickle.load(open(\"/Users/jbrosamer/PonyPricer/WarmbloodData/WarmbloodId0To1000.p\", \"rb\"))\n"
   ]
  },
  {
   "cell_type": "code",
   "execution_count": 83,
   "metadata": {
    "collapsed": false
   },
   "outputs": [
    {
     "data": {
      "text/plain": [
       "2477"
      ]
     },
     "execution_count": 83,
     "metadata": {},
     "output_type": "execute_result"
    }
   ],
   "source": [
    "len(wmIds)"
   ]
  },
  {
   "cell_type": "code",
   "execution_count": 87,
   "metadata": {
    "collapsed": false
   },
   "outputs": [
    {
     "name": "stdout",
     "output_type": "stream",
     "text": [
      "cp Dressage.p Batch/DressageIds.p\n",
      "cp Jumping.p Batch/JumpingIds.p\n",
      "cp Eventing.p Batch/EventingIds.p\n",
      "cp Hunter.p Batch/HunterIds.p\n",
      "cp Warmblood.p Batch/WarmbloodIds.p\n"
     ]
    }
   ],
   "source": [
    "from collections import OrderedDict\n",
    "urlDict=OrderedDict([('Dressage',\"http://www.dreamhorse.com/d/5/dressage/horses-for-sale.html\"), ( \"Jumping\",\"http://www.dreamhorse.com/d/12/jumping/horses-for-sale.html\"), ( \"Eventing\",\"http://www.dreamhorse.com/d/8/eventing/horses-for-sale.html\"), ( \"Hunter\",\"http://www.dreamhorse.com/d/11/hunter/horses-for-sale.html\"), (\"Warmblood\", \"http://www.dreamhorse.com/list-horses/warmbloods.html\")])\n",
    "for k in urlDict.keys():\n",
    "    print \"cp {0}.p Batch/{0}Ids.p\".format(k)"
   ]
  },
  {
   "cell_type": "code",
   "execution_count": 107,
   "metadata": {
    "collapsed": false
   },
   "outputs": [
    {
     "name": "stdout",
     "output_type": "stream",
     "text": [
      "/Users/jbrosamer/PonyPricer\n",
      "['American Sport Pony', 'American Warmblood Registry', 'American Warmblood Society', 'Australian Warmblood', 'Bavarian Warmblood', 'Belgian', 'Belgian Sporthorse', 'Belgian Warmblood', 'Brandenburger', 'Canadian Sport Horse', 'Canadian Warmblood', 'Czech Warmblood', 'Danish Warmblood', 'Dutch Warmblood', 'German Warmblood', 'Hanoverian', 'Holsteiner', 'Hungarian Warmblood', 'Iberian Warmblood', 'International Sporthorse', 'Irish Sport Horse', 'New Zealand Warmblood', 'Oldenburg', 'Polish Warmblood Wielkopolski', 'Rheinland Pfalz Saar', 'Russian Warmblood', 'Selle Francai', 'Sport Horse of Color', 'Swedish Warmblood', 'Swiss Warmblood', 'Trakehner', 'Warmblood Cross', 'Warmbloods of Color', 'Westphalian', 'Zweibrucker']\n"
     ]
    }
   ],
   "source": [
    "%cd ~/PonyPricer/\n",
    "from categories import breeds\n",
    "warmbloods=[\"Hanoverian\", \"Holsteiner\", \"Rheinland Pfalz Saar\", \"Belgian\", \"Oldenburg\", \"Trakehner\", \"Westphalian\", \"Zweibrucker\", \"Brandenburger\", \"Selle Francai\"]\n",
    "l=[]\n",
    "keywords=[\"Warm\", \"Burg\", \"Sport\"]+warmbloods\n",
    "for b in breeds:\n",
    "    for k in keywords:\n",
    "        if k in b:\n",
    "            l.append(b)\n",
    "            break\n",
    "print l\n",
    "leftBreeds=set(breeds)-set(l)"
   ]
  },
  {
   "cell_type": "code",
   "execution_count": 94,
   "metadata": {
    "collapsed": false
   },
   "outputs": [],
   "source": []
  },
  {
   "cell_type": "code",
   "execution_count": 108,
   "metadata": {
    "collapsed": false
   },
   "outputs": [],
   "source": [
    "from categories import breeds\n",
    "warmbloods=[\"Hanoverian\", \"Holsteiner\", \"Rheinland Pfalz Saar\", \"Oldenburg\", \"Belgian\", \"Trakehner\", \"Westphalian\", \"Zweibrucker\", \"Brandenburger\", \"Selle Francai\"]\n",
    "l=[]\n",
    "keywords=[\"loosa\", \"Paint\", \"Quarter\", \"AQHA\", \"Quarter\", \"Ranch\", \"Pint\"]\n",
    "for b in list(leftBreeds):\n",
    "    for k in keywords:\n",
    "        if k in b:\n",
    "            l.append(b)\n",
    "            break\n",
    "leftBreeds2=set(leftBreeds)-set(l)"
   ]
  },
  {
   "cell_type": "code",
   "execution_count": 109,
   "metadata": {
    "collapsed": false
   },
   "outputs": [
    {
     "name": "stdout",
     "output_type": "stream",
     "text": [
      "['National Foundation Quarter Horse NFQHA', 'AQHA Quarter Horse', 'AQHA Quarter Horse Appendix', 'Arabian Pinto', 'Foundation Quarter Horse Registry FQHR', 'Pintabian', 'Walkaloosa', 'AQHA Quarter Horse Cross', 'American Ranch Horse Association', 'APHA Paint', 'National Quarter Horse Registry', 'Quarter Pony', 'Standard Quarter SQHA', 'American Paint Pony', 'Appaloosa', 'Pintaloosa', 'Pinto', 'AraAppaloosa', 'Pinto Paso']\n"
     ]
    }
   ],
   "source": [
    "print l"
   ]
  },
  {
   "cell_type": "code",
   "execution_count": null,
   "metadata": {
    "collapsed": true
   },
   "outputs": [],
   "source": [
    "from categories import breeds\n",
    "warmbloods=[\"Hanoverian\", \"Holsteiner\", \"Rheinland Pfalz Saar\", \"Oldenburg\", \"Trakehner\", \"Westphalian\", \"Zweibrucker\", \"Brandenburger\", \"Selle Francai\"]\n",
    "l=[]\n",
    "keywords=[\"loosa\", \"Paint\", \"Quarter\", \"AQHA\", \"Quarter\"]\n",
    "for b in list(leftBreeds):\n",
    "    for k in keywords:\n",
    "        if k in b:\n",
    "            l.append(b)\n",
    "            break\n",
    "leftBreeds2=set(leftBreeds)-set(l)"
   ]
  },
  {
   "cell_type": "code",
   "execution_count": 113,
   "metadata": {
    "collapsed": false
   },
   "outputs": [
    {
     "name": "stdout",
     "output_type": "stream",
     "text": [
      "['Half Arabian Horse', 'Anglo Arabian', 'Shagya Arabian', 'Arabian TB Cross', 'Arabian Horse', 'Arabian Cross', 'Arabian Saddlebred']\n"
     ]
    }
   ],
   "source": [
    "keywords=[\"Arab\"]\n",
    "l=[]\n",
    "for b in list(leftBreeds2):\n",
    "    for k in keywords:\n",
    "        if k in b:\n",
    "            l.append(b)\n",
    "            break\n",
    "leftBreeds3=set(leftBreeds2)-set(l)\n",
    "print l"
   ]
  },
  {
   "cell_type": "code",
   "execution_count": 114,
   "metadata": {
    "collapsed": false
   },
   "outputs": [
    {
     "name": "stdout",
     "output_type": "stream",
     "text": [
      "['Thoroughbred Welsh Cross', 'Thoroughbred', 'Thoroughbred Cross', 'American Appendix AAHA']\n"
     ]
    }
   ],
   "source": [
    "keywords=[\"TB\", \"Thoro\", \"Append\"]\n",
    "l=[]\n",
    "for b in list(leftBreeds3):\n",
    "    for k in keywords:\n",
    "        if k in b:\n",
    "            l.append(b)\n",
    "            break\n",
    "leftBreeds4=set(leftBreeds3)-set(l)\n",
    "print l"
   ]
  },
  {
   "cell_type": "code",
   "execution_count": 115,
   "metadata": {
    "collapsed": false
   },
   "outputs": [
    {
     "name": "stdout",
     "output_type": "stream",
     "text": [
      "['German Riding Pony', 'Chincoteague Pony', 'Dales Pony', 'American Show Pony', 'New Forest Pony', 'Pony', 'Highland Pony', 'Dartmoor Pony', 'British Riding Pony', 'Pony of America', 'Walking Pony', 'Missouri Fox Trotter Pony', 'Kerry Bog Pony', 'American Dartmoor Pony', 'Shetland Pony', 'Welara Pony', 'Fell Pony', 'Hackney Pony', 'Welsh Pony', 'Newfoundland Pony']\n"
     ]
    }
   ],
   "source": [
    "keywords=[\"Pony\"]\n",
    "l=[]\n",
    "for b in list(leftBreeds4):\n",
    "    for k in keywords:\n",
    "        if k in b:\n",
    "            l.append(b)\n",
    "            break\n",
    "leftBreeds5=set(leftBreeds4)-set(l)\n",
    "print l"
   ]
  },
  {
   "cell_type": "code",
   "execution_count": 136,
   "metadata": {
    "collapsed": false
   },
   "outputs": [
    {
     "name": "stdout",
     "output_type": "stream",
     "text": [
      "['Missouri Fox Trotter Horse', 'American Saddlebred', 'Virginia Highlander', 'Kentucky Mountain Horse', 'Spotted Saddle Horse', 'Pleasure Saddle Horse Registry', 'American Gaited Endurance Horse', 'United Mountain Horse', 'Trote y Galope Horse', 'Rocky Mountain Horse', 'Hackney Horse', 'Montana Travler', 'Morocco Spotted Horse', 'Mountain Pleasure Horse', 'National Show Horse', 'Morgan Horse', 'Spotted Mountain Horse', 'Morab', 'McCurdy Plantation Horse']\n"
     ]
    }
   ],
   "source": [
    "%reload_ext autoreload\n",
    "%autoreload 2\n",
    "import categories as cat\n",
    "import itertools\n",
    "keywords=[\"Mor\", \"Saddle\", \"Rocky\", \"National Show\", \"Trot\", \"Virginia\", \"Tennuvian\", \"Gait\", \"Pleasure\", \"Plantation\", \"Hack\", \"Montana Travler\", \"Mountain\"]\n",
    "l=[]\n",
    "allBreeds=[val for sublist in cat.typeDict.values() for val in sublist]\n",
    "leftBreeds=set(breeds)-set(allBreeds)\n",
    "for b in list(leftBreeds):\n",
    "    for k in keywords:\n",
    "        if k in b:\n",
    "            l.append(b)\n",
    "            break\n",
    "leftBreeds=set(leftBreeds)-set(l)\n",
    "print l"
   ]
  },
  {
   "cell_type": "code",
   "execution_count": 137,
   "metadata": {
    "collapsed": false
   },
   "outputs": [
    {
     "name": "stdout",
     "output_type": "stream",
     "text": [
      "set(['Nokota', 'Riding Steer', 'Dutch Harness Horse', 'Goat', 'American Indian Horse Registry', 'Argentine Criollo Horse', 'Mule', 'Black Forest Horse', 'Lusitano', 'Budyonny Horse', 'Gypsy Horse', 'Nez Perce Horse', 'American Sulphur Horse', 'Miniature Donkey', 'Connemara', 'Hessen', 'Peruvian Paso', 'Akhal Teke Horse', 'Andalusian Cross', 'Irish Draught', 'Friesian', 'Blazer Horse', 'Spanish Barb', 'Bashkir Curly Horse', 'Knabstrupper', 'Mammoth Mule', 'American Creme and White Albino', 'Spanish Norman', 'American Brindle Equine Association', 'Zebra', 'Brabant Horse', 'Hinnie', 'Canadian Horse', 'Welsh Cob', 'Paso Fino', 'Appalachian Singlefoot', 'Zorse', 'Spanish Mustang', 'Standardbred', 'Galiceno', 'Clydesdale', 'Mangalarga Marchador', 'Grade Horse', 'American Buckskin ABRA', 'Singlefoot Horse', 'Gypsy Horse Cross', 'Alpaca', 'PRE Mundial', 'Pura Raza Espanola', 'Llama', 'Tennuvian', 'Lipizzan', 'Mangalarga Paulista', 'Donkey', 'American Polo Horse', 'Warlander', 'Tigre Horse', 'Miniatures Mule', 'Miniature Horse', 'Andalusian', 'Friesian Cross', 'Canadian Cross', 'Mustang', 'Costa Rican Paso', 'Quarab', 'Haflinger', 'Orlov Rostopchin Horse', 'Other', 'Fjord', 'Champagne Horse ICHR', 'Mammoth Donkey', 'Curly Horse', 'Colorado Rangerbred', 'Racking Horse', 'Cleveland Bay', 'Caspian Horse', 'Azteca', 'Tennessee Walking Horse', 'North American Spotted Haflinger', 'Georgian Grande', 'Colonial Spanish Horse', 'Zonkey', 'Suffolk', 'Irish Cob', 'Florida Cracker Horse', 'Kiger Mustang'])\n"
     ]
    }
   ],
   "source": [
    "print leftBreeds"
   ]
  },
  {
   "cell_type": "code",
   "execution_count": null,
   "metadata": {
    "collapsed": true
   },
   "outputs": [],
   "source": []
  }
 ],
 "metadata": {
  "kernelspec": {
   "display_name": "Python 2",
   "language": "python",
   "name": "python2"
  },
  "language_info": {
   "codemirror_mode": {
    "name": "ipython",
    "version": 2
   },
   "file_extension": ".py",
   "mimetype": "text/x-python",
   "name": "python",
   "nbconvert_exporter": "python",
   "pygments_lexer": "ipython2",
   "version": "2.7.11"
  }
 },
 "nbformat": 4,
 "nbformat_minor": 0
}
