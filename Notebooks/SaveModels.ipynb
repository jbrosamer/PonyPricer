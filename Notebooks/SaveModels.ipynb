{
 "cells": [
  {
   "cell_type": "code",
   "execution_count": null,
   "metadata": {
    "collapsed": false
   },
   "outputs": [],
   "source": []
  },
  {
   "cell_type": "code",
   "execution_count": 1,
   "metadata": {
    "collapsed": false
   },
   "outputs": [
    {
     "name": "stdout",
     "output_type": "stream",
     "text": [
      "/Users/jbrosamer/PonyPricer\n",
      "df.columns Index([u'id', u'breed', u'price', u'color', u'age', u'zip', u'temp',\n",
      "       u'warmblood', u'sold', u'soldhere',\n",
      "       ...\n",
      "       u'Pack Horse', u'Draft', u'Sporthorse', u'HYPP N-H',\n",
      "       u'Champion Pedigree', u'Schoolmaster', u'Mounted Games',\n",
      "       u'Team Penning', u'Endurance Riding', u'lenDesc'],\n",
      "      dtype='object', length=138)\n",
      "Final cols ['age', 'gender', 'inches', 'color', 'breed', 'logprice']\n",
      "Dumping /Users/jbrosamer/PonyPricer/ModelBaseColsModel.pkl\n"
     ]
    },
    {
     "name": "stderr",
     "output_type": "stream",
     "text": [
      "/Users/jbrosamer/miniconda2/lib/python2.7/site-packages/matplotlib/__init__.py:872: UserWarning: axes.color_cycle is deprecated and replaced with axes.prop_cycle; please use the latter.\n",
      "  warnings.warn(self.msg_depr % (key, alt_key))\n"
     ]
    },
    {
     "data": {
      "text/plain": [
       "GradientBoostingRegressor(alpha=0.9, init=None, learning_rate=0.1, loss='ls',\n",
       "             max_depth=2, max_features=None, max_leaf_nodes=None,\n",
       "             min_samples_leaf=2, min_samples_split=1,\n",
       "             min_weight_fraction_leaf=0.0, n_estimators=1000,\n",
       "             presort='auto', random_state=None, subsample=1.0, verbose=0,\n",
       "             warm_start=False)"
      ]
     },
     "execution_count": 1,
     "metadata": {},
     "output_type": "execute_result"
    }
   ],
   "source": [
    "%load_ext autoreload\n",
    "%autoreload 2\n",
    "%cd ~/PonyPricer/\n",
    "%matplotlib inline\n",
    "import model as m\n",
    "m.saveModels()"
   ]
  },
  {
   "cell_type": "code",
   "execution_count": null,
   "metadata": {
    "collapsed": false
   },
   "outputs": [],
   "source": [
    "fig, ax=modObj.plot_results()"
   ]
  },
  {
   "cell_type": "code",
   "execution_count": 5,
   "metadata": {
    "collapsed": false
   },
   "outputs": [
    {
     "name": "stdout",
     "output_type": "stream",
     "text": [
      "The autoreload extension is already loaded. To reload it, use:\n",
      "  %reload_ext autoreload\n",
      "/Users/jbrosamer/PonyPricer\n",
      "testDf    age         breed color   gender  inches  logprice\n",
      "0   10  Thoroughbred   Bay  Gelding      66         1\n",
      "Final cols ['age', 'gender', 'inches', 'color', 'breed', 'logprice']\n"
     ]
    }
   ],
   "source": [
    "%load_ext autoreload\n",
    "%autoreload 2\n",
    "%cd ~/PonyPricer/\n",
    "%matplotlib inline\n",
    "import model as m\n",
    "p=m.predForWeb()"
   ]
  },
  {
   "cell_type": "code",
   "execution_count": 8,
   "metadata": {
    "collapsed": false
   },
   "outputs": [
    {
     "name": "stdout",
     "output_type": "stream",
     "text": [
      "df.columns Index([u'id', u'breed', u'price', u'color', u'age', u'zip', u'temp',\n",
      "       u'warmblood', u'sold', u'soldhere',\n",
      "       ...\n",
      "       u'Pack Horse', u'Draft', u'Sporthorse', u'HYPP N-H',\n",
      "       u'Champion Pedigree', u'Schoolmaster', u'Mounted Games',\n",
      "       u'Team Penning', u'Endurance Riding', u'lenDesc'],\n",
      "      dtype='object', length=138)\n",
      "Final cols ['age', 'gender', 'inches', 'color', 'breed', 'logprice']\n",
      "CPU times: user 9.77 s, sys: 585 ms, total: 10.4 s\n",
      "Wall time: 10.6 s\n"
     ]
    },
    {
     "data": {
      "text/plain": [
       "array([ 3.87613473])"
      ]
     },
     "execution_count": 8,
     "metadata": {},
     "output_type": "execute_result"
    }
   ],
   "source": [
    "import model as m\n"
   ]
  },
  {
   "cell_type": "code",
   "execution_count": 10,
   "metadata": {
    "collapsed": false
   },
   "outputs": [
    {
     "name": "stdout",
     "output_type": "stream",
     "text": [
      "testDf    age         breed color   gender  inches  logprice\n",
      "0   10  Thoroughbred   Bay  Gelding      66         1\n",
      "Final cols ['age', 'gender', 'inches', 'color', 'breed', 'logprice']\n",
      "pred [ 3.87613473]\n",
      "CPU times: user 269 ms, sys: 3.53 ms, total: 272 ms\n",
      "Wall time: 272 ms\n",
      "df.columns Index([u'id', u'breed', u'price', u'color', u'age', u'zip', u'temp',\n",
      "       u'warmblood', u'sold', u'soldhere',\n",
      "       ...\n",
      "       u'Pack Horse', u'Draft', u'Sporthorse', u'HYPP N-H',\n",
      "       u'Champion Pedigree', u'Schoolmaster', u'Mounted Games',\n",
      "       u'Team Penning', u'Endurance Riding', u'lenDesc'],\n",
      "      dtype='object', length=138)\n",
      "Final cols ['age', 'gender', 'inches', 'color', 'breed', 'logprice']\n",
      "CPU times: user 8.93 s, sys: 343 ms, total: 9.27 s\n",
      "Wall time: 9.29 s\n"
     ]
    }
   ],
   "source": [
    "import model as m\n",
    "%time w=m.predForWeb()\n",
    "%time runp=m.runPrediction()"
   ]
  },
  {
   "cell_type": "code",
   "execution_count": 12,
   "metadata": {
    "collapsed": false
   },
   "outputs": [
    {
     "data": {
      "text/plain": [
       "array([ 3.87613473])"
      ]
     },
     "execution_count": 12,
     "metadata": {},
     "output_type": "execute_result"
    }
   ],
   "source": [
    "runp"
   ]
  },
  {
   "cell_type": "code",
   "execution_count": 13,
   "metadata": {
    "collapsed": false
   },
   "outputs": [
    {
     "data": {
      "text/plain": [
       "7413.102413009177"
      ]
     },
     "execution_count": 13,
     "metadata": {},
     "output_type": "execute_result"
    }
   ],
   "source": [
    "10**3.87"
   ]
  },
  {
   "cell_type": "code",
   "execution_count": null,
   "metadata": {
    "collapsed": true
   },
   "outputs": [],
   "source": []
  }
 ],
 "metadata": {
  "kernelspec": {
   "display_name": "Python 2",
   "language": "python",
   "name": "python2"
  },
  "language_info": {
   "codemirror_mode": {
    "name": "ipython",
    "version": 2
   },
   "file_extension": ".py",
   "mimetype": "text/x-python",
   "name": "python",
   "nbconvert_exporter": "python",
   "pygments_lexer": "ipython2",
   "version": "2.7.11"
  }
 },
 "nbformat": 4,
 "nbformat_minor": 0
}
