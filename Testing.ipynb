{
 "cells": [
  {
   "cell_type": "code",
   "execution_count": 1,
   "metadata": {
    "collapsed": true
   },
   "outputs": [],
   "source": [
    "%load_ext autoreload\n",
    "%autoreload 2"
   ]
  },
  {
   "cell_type": "code",
   "execution_count": 45,
   "metadata": {
    "collapsed": false
   },
   "outputs": [
    {
     "name": "stdout",
     "output_type": "stream",
     "text": [
      "Scraper isSold False\n",
      "cellTxt \n",
      "New Forest PonyThoroughbred \n",
      "Related Searches by Breed\n",
      "\n",
      "thisCellTxt \n",
      "cellTxt \n",
      "New Forest PonyThoroughbred \n",
      "Related Searches by Breed\n",
      "\n",
      "thisCellTxt New Forest PonyThoroughbred \n",
      "breed New Forest PonyThoroughbred\n",
      "cellTxt \n",
      "New Forest PonyThoroughbred \n",
      "Related Searches by Breed\n",
      "\n",
      "thisCellTxt Related Searches by Breed\n",
      "cellTxt \n",
      "New Forest PonyThoroughbred \n",
      "Related Searches by Breed\n",
      "\n",
      "thisCellTxt \n",
      "age                                                     12.6438\n",
      "breed                               New Forest PonyThoroughbred\n",
      "breedStr      \\nNew Forest PonyThoroughbred \\nRelated Search...\n",
      "color                                                       Bay\n",
      "for lease                                                 False\n",
      "for sale                                                   True\n",
      "forlease                                                   None\n",
      "forsale                                                    None\n",
      "gender                                                  Gelding\n",
      "height                                                  15.0 hh\n",
      "id                                                      2008200\n",
      "location                              Pylesville Maryland 21132\n",
      "price                                                     30000\n",
      "registered                                                 True\n",
      "skills        [Dressage (Shown/Competed/Performed), Eventing...\n",
      "sold                                                      False\n",
      "soldhere                                                  False\n",
      "temp                                                          5\n",
      "warmblood                                                 False\n",
      "zip                                                       21132\n",
      "dtype: object\n"
     ]
    }
   ],
   "source": [
    "%run scraper.py"
   ]
  },
  {
   "cell_type": "code",
   "execution_count": 43,
   "metadata": {
    "collapsed": false
   },
   "outputs": [],
   "source": [
    "from mechanize import Browser\n",
    "from bs4 import BeautifulSoup\n",
    "import pandas as pd\n",
    "import numpy as np\n",
    "import re, pickle, sys, traceback\n",
    "from datetime import datetime\n",
    "url=\"http://www.dreamhorse.com/d/5/dressage/horses-for-sale.html\"\n",
    "br = Browser()\n",
    "br.set_handle_robots(False)\n",
    "br.set_handle_robots(False)\n",
    "br.set_handle_equiv(False)\n",
    "br.addheaders = [('User-agent', 'Mozilla/5.0 (X11; U; Linux i686; en-US; rv:1.9.0.1) Gecko/2008071615 Fedora/3.0.1-1.fc9 Firefox/3.0.1')]\n",
    "columns=['id','breed', 'breedStr', 'price', 'color','location', 'age', 'zip', 'height', 'temp', 'warmblood', 'sold', 'soldhere']\n",
    "columns+=['forsale', 'forlease', 'registered', 'skills']\n",
    "cellColMap={32: 'for lease', 34: 'for sale', 2: 'zip', 36: 'price', 38: 'skills', 6: 'age', 8: 'gender', 10: 'height', 14: 'color', 20: 'warmblood', 22: 'temp', 4: 'breed', 26: 'registered'}\n",
    "id=2021017\n",
    "page = br.open(\"http://www.dreamhorse.com/ad/%i.html\"%id)\n",
    "html = page.read()\n",
    "soup = BeautifulSoup(html, \"html.parser\")\n",
    "tables=soup.findAll(name=\"table\")\n",
    "adDict=dict.fromkeys(columns)\n",
    "adDict['id']=id\n",
    "cells=tables[3].findAll(\"td\")\n",
    "soldCell=soup.findAll(\"td\", class_=\"navy\", limit=2)[-1]\n",
    "breedCell3=cells[4]\n",
    "brRe=re.compile(\".*\\\\n(.*)<br>(.*)\\\\xa0.*\")\n"
   ]
  },
  {
   "cell_type": "code",
   "execution_count": 44,
   "metadata": {
    "collapsed": false
   },
   "outputs": [
    {
     "name": "stdout",
     "output_type": "stream",
     "text": [
      "\n",
      "Andalusian \n",
      "Related Searches by Breed\n",
      "\n"
     ]
    }
   ],
   "source": [
    "print breedCell3.text"
   ]
  },
  {
   "cell_type": "code",
   "execution_count": 42,
   "metadata": {
    "collapsed": false
   },
   "outputs": [
    {
     "name": "stdout",
     "output_type": "stream",
     "text": [
      "\n",
      "New Forest PonyThoroughbred \n",
      "Related Searches by Breed\n",
      "\n"
     ]
    }
   ],
   "source": [
    "print breedCell.text"
   ]
  },
  {
   "cell_type": "code",
   "execution_count": 48,
   "metadata": {
    "collapsed": false
   },
   "outputs": [
    {
     "data": {
      "text/plain": [
       "u'Cash in on the strong US dollar!! Buy Canadian! Get more bang for your buck.  All our horses are from US and/or Canadian National Champion bloodlines for conformation, movement and performance.\\r\\nCome see what we have to offer at Valhalla Andalusians. We have been Canadian Breeder of the year for 4 straight years.\\n\\r\\nSee the Best....Buy the Best....Become the Best!!\\n\\r\\n1) VA Mi Poca Fresa - 2 yr old Grey PRE Filly.(pic is as a yearling)  Beautiful conformation, very feminine with lots of shoulder and drive. Grand-dam was the 2013 Canadian National Champion Sr Mare and the Cad National Champion Best Movement. Top side goes to US Champs Sandokan, Escamillo and Ocioso.  This filly has it all.  $8,500 USD\\n\\r\\n2)VA CRISTAL - Lovely yearling PRE Grey filly, full sister to Fresa above - She is beautiful and with the best extensions Ive seen in such a young horse - in video and pics she is only 2 mo old -$7,000 USD\\n\\r\\n3) VA Toledo - Grey PRE Mundial colt. Both beauty & movement in one. Half brother to the 2012, 2013, 2014 and 2015 Supreme Halter Champions via dam and sire. Dam was 2008 US Reserve National champ Mare, ATH and Gold Medal Movement winner. Sire is the 2015 National Champion Sr. Stallion and Gold Medal Movement winner. $6,500 USD. \\n\\r\\n4) VA Aragon - Gorgeous grey PRE Mundial colt. Champ bloodlines top and bottom (Sandokan, Ocioso, Genio III, Escamillo). Dam was 2015 CDN National High Point Andalusian Horse and 2015 High Point Andalusian, Jr Horse. $6,500 USD'"
      ]
     },
     "execution_count": 48,
     "metadata": {},
     "output_type": "execute_result"
    }
   ],
   "source": [
    "cells[40].text"
   ]
  },
  {
   "cell_type": "code",
   "execution_count": 90,
   "metadata": {
    "collapsed": false
   },
   "outputs": [
    {
     "name": "stdout",
     "output_type": "stream",
     "text": [
      "opening /Users/jbrosamer/PonyPricer/Batch/DressageId0To500.p\n",
      "opening /Users/jbrosamer/PonyPricer/Batch/DressageId1000To1500.p\n",
      "opening /Users/jbrosamer/PonyPricer/Batch/DressageId1500To2000.p\n",
      "opening /Users/jbrosamer/PonyPricer/Batch/DressageId2000To2500.p\n",
      "opening /Users/jbrosamer/PonyPricer/Batch/DressageId2500To3000.p\n",
      "opening /Users/jbrosamer/PonyPricer/Batch/DressageId3000To3500.p\n",
      "opening /Users/jbrosamer/PonyPricer/Batch/DressageId3500To4000.p\n",
      "opening /Users/jbrosamer/PonyPricer/Batch/DressageId4000To4500.p\n",
      "opening /Users/jbrosamer/PonyPricer/Batch/DressageId4500To5000.p\n",
      "opening /Users/jbrosamer/PonyPricer/Batch/DressageId5000To5500.p\n",
      "opening /Users/jbrosamer/PonyPricer/Batch/DressageId500To1000.p\n"
     ]
    }
   ],
   "source": [
    "import pickle, glob\n",
    "import pandas as pd\n",
    "def pickleToDataframe(path=\"/Users/jbrosamer/PonyPricer/Batch/DressageId*.p\"):\n",
    "    df=pd.DataFrame()\n",
    "    dfList=[]\n",
    "    for f in glob.glob(path):\n",
    "        print \"opening\",f\n",
    "        p=pickle.load(open(f, 'rb'))\n",
    "        dfList.append(p)\n",
    "    df = pd.concat(dfList, axis = 0)\n",
    "    df = df.reset_index().drop('index', axis = 1)\n",
    "    return df\n",
    "df=pickleToDataframe()"
   ]
  },
  {
   "cell_type": "code",
   "execution_count": 125,
   "metadata": {
    "collapsed": false
   },
   "outputs": [
    {
     "name": "stdout",
     "output_type": "stream",
     "text": [
      "opening /Users/jbrosamer/PonyPricer/Batch/DressageId0To500.p\n",
      "opening /Users/jbrosamer/PonyPricer/Batch/DressageId1000To1500.p\n",
      "opening /Users/jbrosamer/PonyPricer/Batch/DressageId1500To2000.p\n",
      "opening /Users/jbrosamer/PonyPricer/Batch/DressageId2000To2500.p\n",
      "opening /Users/jbrosamer/PonyPricer/Batch/DressageId2500To3000.p\n",
      "opening /Users/jbrosamer/PonyPricer/Batch/DressageId3000To3500.p\n",
      "opening /Users/jbrosamer/PonyPricer/Batch/DressageId3500To4000.p\n",
      "opening /Users/jbrosamer/PonyPricer/Batch/DressageId4000To4500.p\n",
      "opening /Users/jbrosamer/PonyPricer/Batch/DressageId4500To5000.p\n",
      "opening /Users/jbrosamer/PonyPricer/Batch/DressageId5000To5500.p\n",
      "opening /Users/jbrosamer/PonyPricer/Batch/DressageId500To1000.p\n"
     ]
    }
   ],
   "source": [
    "def pickleToDataframe(path=\"/Users/jbrosamer/PonyPricer/Batch/DressageId*.p\"):\n",
    "    df=pd.DataFrame()\n",
    "    dfList=[]\n",
    "    for f in glob.glob(path):\n",
    "        print \"opening\",f\n",
    "        p=pickle.load(open(f, 'rb'))\n",
    "        dfList.append(p)\n",
    "    df = pd.concat(dfList, axis = 0)\n",
    "    df = df.reset_index().drop('index', axis = 1)\n",
    "    return df\n",
    "tf=pickleToDataframe()"
   ]
  },
  {
   "cell_type": "code",
   "execution_count": 127,
   "metadata": {
    "collapsed": false
   },
   "outputs": [
    {
     "data": {
      "text/plain": [
       "pandas.core.frame.DataFrame"
      ]
     },
     "execution_count": 127,
     "metadata": {},
     "output_type": "execute_result"
    }
   ],
   "source": [
    "type(tf)"
   ]
  },
  {
   "cell_type": "code",
   "execution_count": 77,
   "metadata": {
    "collapsed": true
   },
   "outputs": [],
   "source": [
    "goodDf=goodDf[goodDf.price < 100000.]"
   ]
  },
  {
   "cell_type": "code",
   "execution_count": 128,
   "metadata": {
    "collapsed": false
   },
   "outputs": [
    {
     "data": {
      "text/plain": [
       "Index([u'id', u'breed', u'breedStr', u'price', u'color', u'location', u'age',\n",
       "       u'zip', u'height', u'temp', u'warmblood', u'sold', u'soldhere',\n",
       "       u'forsale', u'forlease', u'registered', u'skills', u'desc'],\n",
       "      dtype='object')"
      ]
     },
     "execution_count": 128,
     "metadata": {},
     "output_type": "execute_result"
    }
   ],
   "source": [
    "tf.columns"
   ]
  },
  {
   "cell_type": "code",
   "execution_count": 152,
   "metadata": {
    "collapsed": false
   },
   "outputs": [],
   "source": [
    "def skillToStr(row):\n",
    "    if pd.isnull(row['skills']):\n",
    "        return \"\"\n",
    "    try:\n",
    "        return \",\".join(row['skills'])\n",
    "    except:\n",
    "        return \"\""
   ]
  },
  {
   "cell_type": "code",
   "execution_count": 119,
   "metadata": {
    "collapsed": false
   },
   "outputs": [],
   "source": [
    "def inches(row):\n",
    "    try:\n",
    "         if \"hh\" in row[\"height\"]:\n",
    "            return float(row['height'].split('.')[0])*4.0+float(row['height'].split('.')[1][0])\n",
    "         if \"Inch\" in row['height']:\n",
    "            return float(row['height'].replace(\" Inches\", \"\"))\n",
    "    except:\n",
    "        return 0"
   ]
  },
  {
   "cell_type": "code",
   "execution_count": 153,
   "metadata": {
    "collapsed": false
   },
   "outputs": [
    {
     "ename": "ValueError",
     "evalue": "('The truth value of an array with more than one element is ambiguous. Use a.any() or a.all()', u'occurred at index 0')",
     "output_type": "error",
     "traceback": [
      "\u001b[0;31m---------------------------------------------------------------------------\u001b[0m",
      "\u001b[0;31mValueError\u001b[0m                                Traceback (most recent call last)",
      "\u001b[0;32m<ipython-input-153-ba813999195a>\u001b[0m in \u001b[0;36m<module>\u001b[0;34m()\u001b[0m\n\u001b[0;32m----> 1\u001b[0;31m \u001b[0mskillStr\u001b[0m\u001b[0;34m=\u001b[0m\u001b[0mtf\u001b[0m\u001b[0;34m.\u001b[0m\u001b[0mapply\u001b[0m\u001b[0;34m(\u001b[0m\u001b[0mskillToStr\u001b[0m\u001b[0;34m,\u001b[0m \u001b[0maxis\u001b[0m\u001b[0;34m=\u001b[0m\u001b[0;36m1\u001b[0m\u001b[0;34m)\u001b[0m\u001b[0;34m\u001b[0m\u001b[0m\n\u001b[0m",
      "\u001b[0;32m/Users/jbrosamer/miniconda2/lib/python2.7/site-packages/pandas/core/frame.pyc\u001b[0m in \u001b[0;36mapply\u001b[0;34m(self, func, axis, broadcast, raw, reduce, args, **kwds)\u001b[0m\n\u001b[1;32m   3970\u001b[0m                     \u001b[0;32mif\u001b[0m \u001b[0mreduce\u001b[0m \u001b[0;32mis\u001b[0m \u001b[0mNone\u001b[0m\u001b[0;34m:\u001b[0m\u001b[0;34m\u001b[0m\u001b[0m\n\u001b[1;32m   3971\u001b[0m                         \u001b[0mreduce\u001b[0m \u001b[0;34m=\u001b[0m \u001b[0mTrue\u001b[0m\u001b[0;34m\u001b[0m\u001b[0m\n\u001b[0;32m-> 3972\u001b[0;31m                     \u001b[0;32mreturn\u001b[0m \u001b[0mself\u001b[0m\u001b[0;34m.\u001b[0m\u001b[0m_apply_standard\u001b[0m\u001b[0;34m(\u001b[0m\u001b[0mf\u001b[0m\u001b[0;34m,\u001b[0m \u001b[0maxis\u001b[0m\u001b[0;34m,\u001b[0m \u001b[0mreduce\u001b[0m\u001b[0;34m=\u001b[0m\u001b[0mreduce\u001b[0m\u001b[0;34m)\u001b[0m\u001b[0;34m\u001b[0m\u001b[0m\n\u001b[0m\u001b[1;32m   3973\u001b[0m             \u001b[0;32melse\u001b[0m\u001b[0;34m:\u001b[0m\u001b[0;34m\u001b[0m\u001b[0m\n\u001b[1;32m   3974\u001b[0m                 \u001b[0;32mreturn\u001b[0m \u001b[0mself\u001b[0m\u001b[0;34m.\u001b[0m\u001b[0m_apply_broadcast\u001b[0m\u001b[0;34m(\u001b[0m\u001b[0mf\u001b[0m\u001b[0;34m,\u001b[0m \u001b[0maxis\u001b[0m\u001b[0;34m)\u001b[0m\u001b[0;34m\u001b[0m\u001b[0m\n",
      "\u001b[0;32m/Users/jbrosamer/miniconda2/lib/python2.7/site-packages/pandas/core/frame.pyc\u001b[0m in \u001b[0;36m_apply_standard\u001b[0;34m(self, func, axis, ignore_failures, reduce)\u001b[0m\n\u001b[1;32m   4062\u001b[0m             \u001b[0;32mtry\u001b[0m\u001b[0;34m:\u001b[0m\u001b[0;34m\u001b[0m\u001b[0m\n\u001b[1;32m   4063\u001b[0m                 \u001b[0;32mfor\u001b[0m \u001b[0mi\u001b[0m\u001b[0;34m,\u001b[0m \u001b[0mv\u001b[0m \u001b[0;32min\u001b[0m \u001b[0menumerate\u001b[0m\u001b[0;34m(\u001b[0m\u001b[0mseries_gen\u001b[0m\u001b[0;34m)\u001b[0m\u001b[0;34m:\u001b[0m\u001b[0;34m\u001b[0m\u001b[0m\n\u001b[0;32m-> 4064\u001b[0;31m                     \u001b[0mresults\u001b[0m\u001b[0;34m[\u001b[0m\u001b[0mi\u001b[0m\u001b[0;34m]\u001b[0m \u001b[0;34m=\u001b[0m \u001b[0mfunc\u001b[0m\u001b[0;34m(\u001b[0m\u001b[0mv\u001b[0m\u001b[0;34m)\u001b[0m\u001b[0;34m\u001b[0m\u001b[0m\n\u001b[0m\u001b[1;32m   4065\u001b[0m                     \u001b[0mkeys\u001b[0m\u001b[0;34m.\u001b[0m\u001b[0mappend\u001b[0m\u001b[0;34m(\u001b[0m\u001b[0mv\u001b[0m\u001b[0;34m.\u001b[0m\u001b[0mname\u001b[0m\u001b[0;34m)\u001b[0m\u001b[0;34m\u001b[0m\u001b[0m\n\u001b[1;32m   4066\u001b[0m             \u001b[0;32mexcept\u001b[0m \u001b[0mException\u001b[0m \u001b[0;32mas\u001b[0m \u001b[0me\u001b[0m\u001b[0;34m:\u001b[0m\u001b[0;34m\u001b[0m\u001b[0m\n",
      "\u001b[0;32m<ipython-input-152-e42970a2d9be>\u001b[0m in \u001b[0;36mskillToStr\u001b[0;34m(row)\u001b[0m\n\u001b[1;32m      1\u001b[0m \u001b[0;32mdef\u001b[0m \u001b[0mskillToStr\u001b[0m\u001b[0;34m(\u001b[0m\u001b[0mrow\u001b[0m\u001b[0;34m)\u001b[0m\u001b[0;34m:\u001b[0m\u001b[0;34m\u001b[0m\u001b[0m\n\u001b[0;32m----> 2\u001b[0;31m     \u001b[0;32mif\u001b[0m \u001b[0mpd\u001b[0m\u001b[0;34m.\u001b[0m\u001b[0misnull\u001b[0m\u001b[0;34m(\u001b[0m\u001b[0mrow\u001b[0m\u001b[0;34m[\u001b[0m\u001b[0;34m'skills'\u001b[0m\u001b[0;34m]\u001b[0m\u001b[0;34m)\u001b[0m\u001b[0;34m:\u001b[0m\u001b[0;34m\u001b[0m\u001b[0m\n\u001b[0m\u001b[1;32m      3\u001b[0m         \u001b[0;32mreturn\u001b[0m \u001b[0;34m\"\"\u001b[0m\u001b[0;34m\u001b[0m\u001b[0m\n\u001b[1;32m      4\u001b[0m     \u001b[0;32mtry\u001b[0m\u001b[0;34m:\u001b[0m\u001b[0;34m\u001b[0m\u001b[0m\n\u001b[1;32m      5\u001b[0m         \u001b[0;32mreturn\u001b[0m \u001b[0;34m\",\"\u001b[0m\u001b[0;34m.\u001b[0m\u001b[0mjoin\u001b[0m\u001b[0;34m(\u001b[0m\u001b[0mrow\u001b[0m\u001b[0;34m[\u001b[0m\u001b[0;34m'skills'\u001b[0m\u001b[0;34m]\u001b[0m\u001b[0;34m)\u001b[0m\u001b[0;34m\u001b[0m\u001b[0m\n",
      "\u001b[0;31mValueError\u001b[0m: ('The truth value of an array with more than one element is ambiguous. Use a.any() or a.all()', u'occurred at index 0')"
     ]
    }
   ],
   "source": [
    "skillStr=tf.apply(skillToStr, axis=1)"
   ]
  },
  {
   "cell_type": "code",
   "execution_count": 154,
   "metadata": {
    "collapsed": false
   },
   "outputs": [],
   "source": [
    "badCols=['breedStr', 'desc', 'location']\n",
    "tf.drop(badCols, axis=1, inplace=True)"
   ]
  },
  {
   "cell_type": "code",
   "execution_count": 158,
   "metadata": {
    "collapsed": false
   },
   "outputs": [],
   "source": [
    "import sys\n",
    "import os\n",
    "import datetime as dt\n",
    "from collections import OrderedDict\n",
    "\n",
    "import pandas as pd\n",
    "import numpy as np\n",
    "import mysql.connector\n",
    "import pickle, glob\n",
    "\n",
    "class dbConnect():\n",
    "    '''\n",
    "    Class to help with context management for 'with' statements.\n",
    "\n",
    "    http://www.webmasterwords.com/python-with-statement\n",
    "\n",
    "    c = dbConnect(host = 'localhost', user = 'root',\n",
    "                  passwd = 'default', db = 'nba_stats')\n",
    "    with c:\n",
    "        df.to_sql('nbadotcom', c.con, flavor = 'mysql', dtype = dtype)\n",
    "    '''\n",
    "    def __init__(self, host, user, passwd, db):\n",
    "        self.host = host\n",
    "        self.user = user\n",
    "        self.passwd = passwd\n",
    "        self.db = db\n",
    "    def __enter__(self):\n",
    "        self.con = mysql.connector.connect(host = self.host, user = self.user,\n",
    "                                   passwd = self.passwd, db = self.db)\n",
    "        self.cur = self.con.cursor()\n",
    "    def __exit__(self, type, value, traceback):\n",
    "        self.cur.close()\n",
    "        self.con.close()"
   ]
  },
  {
   "cell_type": "code",
   "execution_count": 162,
   "metadata": {
    "collapsed": false
   },
   "outputs": [],
   "source": [
    "connect = dbConnect(host = 'localhost', user = 'root',\n",
    "            passwd = 'jbrosamer', db = 'horses')\n",
    "with connect:\n",
    "    testName=\"test\"\n",
    "    df = pd.DataFrame({'id': tf['id']})\n",
    "    df.to_sql(name = testName, con = connect.con,\n",
    "                      flavor = 'mysql', if_exists='replace')\n",
    "    \n",
    "    "
   ]
  },
  {
   "cell_type": "code",
   "execution_count": 163,
   "metadata": {
    "collapsed": false
   },
   "outputs": [],
   "source": [
    "import scrape2sql as sq"
   ]
  },
  {
   "cell_type": "code",
   "execution_count": 164,
   "metadata": {
    "collapsed": false
   },
   "outputs": [
    {
     "name": "stdout",
     "output_type": "stream",
     "text": [
      "opening /Users/jbrosamer/PonyPricer/Batch/DressageId0To500.p\n"
     ]
    }
   ],
   "source": [
    "df=sq.pickleToDataframe()"
   ]
  },
  {
   "cell_type": "code",
   "execution_count": 167,
   "metadata": {
    "collapsed": false
   },
   "outputs": [
    {
     "data": {
      "text/html": [
       "<div>\n",
       "<table border=\"1\" class=\"dataframe\">\n",
       "  <thead>\n",
       "    <tr style=\"text-align: right;\">\n",
       "      <th></th>\n",
       "      <th>id</th>\n",
       "      <th>breed</th>\n",
       "      <th>breedStr</th>\n",
       "      <th>price</th>\n",
       "      <th>color</th>\n",
       "      <th>location</th>\n",
       "      <th>age</th>\n",
       "      <th>zip</th>\n",
       "      <th>height</th>\n",
       "      <th>temp</th>\n",
       "      <th>warmblood</th>\n",
       "      <th>sold</th>\n",
       "      <th>soldhere</th>\n",
       "      <th>forsale</th>\n",
       "      <th>forlease</th>\n",
       "      <th>registered</th>\n",
       "      <th>skills</th>\n",
       "      <th>desc</th>\n",
       "    </tr>\n",
       "  </thead>\n",
       "  <tbody>\n",
       "    <tr>\n",
       "      <th>0</th>\n",
       "      <td>2021017</td>\n",
       "      <td>Andalusian</td>\n",
       "      <td>\\nAndalusian \\nRelated Searches by Breed\\n</td>\n",
       "      <td>8500</td>\n",
       "      <td>Grey</td>\n",
       "      <td>Crescent Valley British Columbia V0G 1H0</td>\n",
       "      <td>1.88767</td>\n",
       "      <td>0</td>\n",
       "      <td>0 Inches</td>\n",
       "      <td>11</td>\n",
       "      <td>False</td>\n",
       "      <td>False</td>\n",
       "      <td>False</td>\n",
       "      <td>None</td>\n",
       "      <td>None</td>\n",
       "      <td>True</td>\n",
       "      <td>[Champion Pedigree, Dressage, Halter, Sporthor...</td>\n",
       "      <td>None</td>\n",
       "    </tr>\n",
       "    <tr>\n",
       "      <th>1</th>\n",
       "      <td>2020662</td>\n",
       "      <td>FriesianHalf Arabian</td>\n",
       "      <td>\\nFriesian CrossHalf Arabian \\nRelated Searche...</td>\n",
       "      <td>5000</td>\n",
       "      <td>Bay</td>\n",
       "      <td>Stanwood Washington 98292</td>\n",
       "      <td>0.635616</td>\n",
       "      <td>98292</td>\n",
       "      <td>0 Inches</td>\n",
       "      <td>11</td>\n",
       "      <td>False</td>\n",
       "      <td>False</td>\n",
       "      <td>False</td>\n",
       "      <td>None</td>\n",
       "      <td>None</td>\n",
       "      <td>True</td>\n",
       "      <td>[Dressage, Sporthorse]</td>\n",
       "      <td>None</td>\n",
       "    </tr>\n",
       "    <tr>\n",
       "      <th>2</th>\n",
       "      <td>NaN</td>\n",
       "      <td>NaN</td>\n",
       "      <td>NaN</td>\n",
       "      <td>NaN</td>\n",
       "      <td>NaN</td>\n",
       "      <td>NaN</td>\n",
       "      <td>NaN</td>\n",
       "      <td>NaN</td>\n",
       "      <td>NaN</td>\n",
       "      <td>NaN</td>\n",
       "      <td>NaN</td>\n",
       "      <td>NaN</td>\n",
       "      <td>NaN</td>\n",
       "      <td>NaN</td>\n",
       "      <td>NaN</td>\n",
       "      <td>NaN</td>\n",
       "      <td>NaN</td>\n",
       "      <td>NaN</td>\n",
       "    </tr>\n",
       "    <tr>\n",
       "      <th>3</th>\n",
       "      <td>2020354</td>\n",
       "      <td>AQHA Quarter Horse Appendix</td>\n",
       "      <td>\\nAQHA Quarter Horse Appendix \\nRelated Search...</td>\n",
       "      <td>9500</td>\n",
       "      <td>Bay</td>\n",
       "      <td>Port Orchard Washington 98366</td>\n",
       "      <td>13.0575</td>\n",
       "      <td>98366</td>\n",
       "      <td>16.0 hh</td>\n",
       "      <td>3</td>\n",
       "      <td>False</td>\n",
       "      <td>False</td>\n",
       "      <td>False</td>\n",
       "      <td>None</td>\n",
       "      <td>None</td>\n",
       "      <td>True</td>\n",
       "      <td>[Dressage, Eventing, Hunt Seat Equitation, Jum...</td>\n",
       "      <td>None</td>\n",
       "    </tr>\n",
       "    <tr>\n",
       "      <th>4</th>\n",
       "      <td>2020339</td>\n",
       "      <td>Dutch Warmblood</td>\n",
       "      <td>\\nDutch Warmblood \\nRelated Searches by Breed\\n</td>\n",
       "      <td>18000</td>\n",
       "      <td>Bay</td>\n",
       "      <td>Waddell Arizona 85355</td>\n",
       "      <td>13.5616</td>\n",
       "      <td>85355</td>\n",
       "      <td>17.0 hh</td>\n",
       "      <td>5</td>\n",
       "      <td>False</td>\n",
       "      <td>False</td>\n",
       "      <td>False</td>\n",
       "      <td>None</td>\n",
       "      <td>None</td>\n",
       "      <td>True</td>\n",
       "      <td>[Dressage, Eventing, Trail Riding, Recreational]</td>\n",
       "      <td>None</td>\n",
       "    </tr>\n",
       "  </tbody>\n",
       "</table>\n",
       "</div>"
      ],
      "text/plain": [
       "        id                        breed  \\\n",
       "0  2021017                   Andalusian   \n",
       "1  2020662         FriesianHalf Arabian   \n",
       "2      NaN                          NaN   \n",
       "3  2020354  AQHA Quarter Horse Appendix   \n",
       "4  2020339              Dutch Warmblood   \n",
       "\n",
       "                                            breedStr  price color  \\\n",
       "0         \\nAndalusian \\nRelated Searches by Breed\\n   8500  Grey   \n",
       "1  \\nFriesian CrossHalf Arabian \\nRelated Searche...   5000   Bay   \n",
       "2                                                NaN    NaN   NaN   \n",
       "3  \\nAQHA Quarter Horse Appendix \\nRelated Search...   9500   Bay   \n",
       "4    \\nDutch Warmblood \\nRelated Searches by Breed\\n  18000   Bay   \n",
       "\n",
       "                                   location       age    zip    height temp  \\\n",
       "0  Crescent Valley British Columbia V0G 1H0   1.88767      0  0 Inches   11   \n",
       "1                 Stanwood Washington 98292  0.635616  98292  0 Inches   11   \n",
       "2                                       NaN       NaN    NaN       NaN  NaN   \n",
       "3             Port Orchard Washington 98366   13.0575  98366   16.0 hh    3   \n",
       "4                     Waddell Arizona 85355   13.5616  85355   17.0 hh    5   \n",
       "\n",
       "  warmblood   sold soldhere forsale forlease registered  \\\n",
       "0     False  False    False    None     None       True   \n",
       "1     False  False    False    None     None       True   \n",
       "2       NaN    NaN      NaN     NaN      NaN        NaN   \n",
       "3     False  False    False    None     None       True   \n",
       "4     False  False    False    None     None       True   \n",
       "\n",
       "                                              skills  desc  \n",
       "0  [Champion Pedigree, Dressage, Halter, Sporthor...  None  \n",
       "1                             [Dressage, Sporthorse]  None  \n",
       "2                                                NaN   NaN  \n",
       "3  [Dressage, Eventing, Hunt Seat Equitation, Jum...  None  \n",
       "4   [Dressage, Eventing, Trail Riding, Recreational]  None  "
      ]
     },
     "execution_count": 167,
     "metadata": {},
     "output_type": "execute_result"
    }
   ],
   "source": [
    "df.head()\n"
   ]
  },
  {
   "cell_type": "code",
   "execution_count": null,
   "metadata": {
    "collapsed": true
   },
   "outputs": [],
   "source": [
    "badCols=[u'breed', u'breedStr', u'price', u'color', u'location', u'age',\n",
    "       u'zip', u'height', u'temp', u'warmblood', u'sold', u'soldhere',\n",
    "       u'forsale', u'forlease', u'registered', u'skills', u'desc', u'inches']\n",
    "tf=df.drop(badCols, axis=1)"
   ]
  }
 ],
 "metadata": {
  "kernelspec": {
   "display_name": "Python 2",
   "language": "python",
   "name": "python2"
  },
  "language_info": {
   "codemirror_mode": {
    "name": "ipython",
    "version": 2
   },
   "file_extension": ".py",
   "mimetype": "text/x-python",
   "name": "python",
   "nbconvert_exporter": "python",
   "pygments_lexer": "ipython2",
   "version": "2.7.11"
  }
 },
 "nbformat": 4,
 "nbformat_minor": 0
}
